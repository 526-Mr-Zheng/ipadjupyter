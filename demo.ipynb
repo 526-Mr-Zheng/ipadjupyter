{
 "cells": [
  {
   "cell_type": "code",
   "execution_count": 1,
   "metadata": {},
   "outputs": [
    {
     "name": "stdout",
     "output_type": "stream",
     "text": [
      "Send the packet 1...\n",
      "Packet 1 timeout，the 1th retransmission in progress\n",
      "Ack Packet 1 received\n",
      "Send the packet 2...\n",
      "Ack Packet 2 received\n",
      "Send the packet 3...\n",
      "Ack Packet 3 received\n",
      "Send the packet 4...\n",
      "Ack Packet 4 received\n",
      "Send the packet 5...\n",
      "Ack Packet 5 received\n",
      "Send the packet 6...\n",
      "Ack Packet 6 received\n",
      "Send the packet 7...\n",
      "Packet 7 timeout，the 1th retransmission in progress\n",
      "Packet 7 timeout，the 2th retransmission in progress\n",
      "Ack Packet 7 received\n",
      "Send the packet 8...\n",
      "Ack Packet 8 received\n",
      "Send the packet 9...\n",
      "Packet 9 timeout，the 1th retransmission in progress\n",
      "Ack Packet 9 received\n",
      "Send the packet 10...\n",
      "Ack Packet 10 received\n",
      "Sending 10 packets in total, packet loss rate = 0.29, time spent 4075.535 microseconds\n"
     ]
    }
   ],
   "source": [
    "import socket as sk\n",
    "import datetime\n",
    "\n",
    "\n",
    "if __name__ == \"__main__\":\n",
    "    serverName = 'localhost'        #服务器名称\n",
    "    serverPort = 12345              #服务器端口\n",
    "    packetNumber = 10               #发送包的数量\n",
    "    timeout = 1.0                   #判断超时的时间\n",
    "    lossNumber = 0                  #统计丢包的个数\n",
    "    clientSocket = sk.socket(sk.AF_INET, sk.SOCK_DGRAM)\n",
    "    t_start = datetime.datetime.now().timestamp()       #记录开始发送的时间\n",
    "    for _ in range(packetNumber):                       #开始发送\n",
    "        print(\"Send the packet {}...\".format(_+1))\n",
    "        clientSocket.sendto('Packet {}'.format(_+1).encode(),(serverName, serverPort))\n",
    "        clientSocket.settimeout(timeout)                #设置定时器\n",
    "        response = ''\n",
    "        repeat = 0\n",
    "        while response == '':           # 如果超时未收到Ack则重新发送并重新设置定时器\n",
    "            try:\n",
    "                response, serverAddress = clientSocket.recvfrom(2048)\n",
    "            except:\n",
    "                repeat = repeat+1\n",
    "                print('Packet {} timeout，the {}th retransmission in progress'.format(_+1,repeat))\n",
    "                clientSocket.sendto('Packet {}'.format(_ + 1).encode(), (serverName, serverPort))\n",
    "                clientSocket.settimeout(timeout)\n",
    "        lossNumber = lossNumber+repeat\n",
    "        print(response.decode()+\" received\")\n",
    "    # 发送结束统计丢包数及发送时间\n",
    "    t_end = datetime.datetime.now().timestamp()\n",
    "    lossRate = lossNumber/(lossNumber+packetNumber)\n",
    "    print('Sending {} packets in total, packet loss rate = {:.2f}, time spent {:.3f} microseconds'.format(packetNumber,lossRate,(t_end-t_start)*1000))\n",
    "    clientSocket.close()"
   ]
  },
  {
   "cell_type": "code",
   "execution_count": null,
   "metadata": {},
   "outputs": [],
   "source": []
  }
 ],
 "metadata": {
  "kernelspec": {
   "display_name": "Python 3",
   "language": "python",
   "name": "python3"
  },
  "language_info": {
   "codemirror_mode": {
    "name": "ipython",
    "version": 3
   },
   "file_extension": ".py",
   "mimetype": "text/x-python",
   "name": "python",
   "nbconvert_exporter": "python",
   "pygments_lexer": "ipython3",
   "version": "3.8.5"
  }
 },
 "nbformat": 4,
 "nbformat_minor": 4
}
